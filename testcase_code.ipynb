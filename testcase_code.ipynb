{
  "nbformat": 4,
  "nbformat_minor": 0,
  "metadata": {
    "colab": {
      "name": "Copy of testset.ipynb",
      "provenance": [],
      "collapsed_sections": []
    },
    "kernelspec": {
      "name": "python3",
      "display_name": "Python 3"
    },
    "language_info": {
      "name": "python"
    }
  },
  "cells": [
    {
      "cell_type": "code",
      "execution_count": null,
      "metadata": {
        "colab": {
          "base_uri": "https://localhost:8080/"
        },
        "id": "R1hXOyBoOhVj",
        "outputId": "385e72e6-9f16-4325-c3df-0a8a45f131e1"
      },
      "outputs": [
        {
          "output_type": "stream",
          "name": "stdout",
          "text": [
            "Drive already mounted at /content/gdrive; to attempt to forcibly remount, call drive.mount(\"/content/gdrive\", force_remount=True).\n"
          ]
        }
      ],
      "source": [
        "from google.colab import drive\n",
        "drive.mount('/content/gdrive')\n",
        "test_path = 'gdrive/My Drive/Colab Notebooks/NoahTrim_Proper.csv'\n",
        "\n",
        "from sklearn.model_selection import train_test_split\n",
        "import pandas as pd\n",
        "import glob\n",
        "\n",
        "from sklearn.linear_model import LogisticRegression\n",
        "\n",
        "from sklearn import svm\n",
        "from sklearn.model_selection import GridSearchCV\n",
        "from sklearn.neural_network import MLPClassifier\n",
        "from sklearn.datasets import make_classification\n",
        "from sklearn.model_selection import train_test_split\n",
        "from sklearn.preprocessing import StandardScaler\n",
        "import pickle\n",
        "\n",
        "import tensorflow as tf\n",
        "\n",
        "from tensorflow.keras import datasets, layers, models\n",
        "import matplotlib.pyplot as plt\n",
        "\n",
        "from sklearn.ensemble import RandomForestClassifier\n",
        "import matplotlib.pyplot as plt\n",
        "from matplotlib import rcParams\n",
        "rcParams['figure.figsize'] = 14, 7\n",
        "rcParams['axes.spines.top'] = False\n",
        "rcParams['axes.spines.right'] = False\n",
        "import math\n",
        "from sklearn.metrics import f1_score\n",
        "from sklearn.metrics import accuracy_score\n",
        "\n",
        "from sklearn.pipeline import Pipeline\n",
        "from sklearn.model_selection import StratifiedShuffleSplit\n",
        "import numpy as np\n",
        "from sklearn import metrics\n",
        "from sklearn.metrics import precision_recall_curve\n",
        "from sklearn.metrics import confusion_matrix\n",
        "import seaborn as sns\n",
        "from sklearn.metrics import precision_score, recall_score\n",
        "from sklearn.metrics import classification_report\n",
        "\n",
        "pd.set_option('display.max_columns', None)\n",
        "import plotly.express as px"
      ]
    },
    {
      "cell_type": "code",
      "source": [
        "path = 'gdrive/My Drive/Colab Notebooks/'\n",
        "all_files = {\n",
        "\n",
        "   \n",
        "   \"p1\": \"p1_ostacle.csv\"\n",
        "   \n",
        "\n",
        "}\n",
        "\n",
        "li = []\n",
        "\n",
        "for alias in all_files:\n",
        "    temp_df = pd.read_csv(path+all_files[alias], index_col=None, header=0)\n",
        "    temp_df[\"file_id\"] = alias\n",
        "    li.append(temp_df)\n",
        "\n",
        "    kp_names = [\n",
        "      'nose',\n",
        "      'left_eye',\n",
        "      'right_eye',\n",
        "      'left_ear',\n",
        "      'right_ear',\n",
        "      'left_shoulder',\n",
        "      'right_shoulder',\n",
        "      'left_elbow',\n",
        "      'right_elbow',\n",
        "      'left_wrist',\n",
        "      'right_wrist',\n",
        "      'left_hip',\n",
        "      'right_hip',\n",
        "      'left_knee',\n",
        "      'right_knee',\n",
        "      'left_ankle',\n",
        "      'right_ankle',\n",
        "    ]\n",
        "\n",
        "    colnames = []\n",
        "    for cam in [\"back\", \"side\"]:\n",
        "      for i in kp_names:\n",
        "        for pt in [\"x\", \"y\", \"z\"]:\n",
        "          colnames.append(f\"{cam}_{i}_{pt}\")\n",
        "    colnames = [\"frame_count\"] + colnames + [\"label\", \"file_id\"]\n",
        "    temp_df.columns = colnames\n",
        "\n",
        "df = pd.concat(li, axis=0, ignore_index=True)\n",
        "dftest = df.apply(lambda x : True\n",
        "            if x['label'] == 1 else False, axis = 1)\n",
        "\n",
        "num_rows = len(dftest[dftest == True].index)\n",
        "\n",
        "print(num_rows)\n",
        "df"
      ],
      "metadata": {
        "id": "wuE1XLBQOmwB"
      },
      "execution_count": null,
      "outputs": []
    },
    {
      "cell_type": "code",
      "source": [
        "X = df[[c for c in df.columns if c not in (\"frame_count\",\"label\", \"file_id\")]]\n",
        "y = df[\"label\"]"
      ],
      "metadata": {
        "id": "BYKWujF4OuPA"
      },
      "execution_count": null,
      "outputs": []
    },
    {
      "cell_type": "code",
      "source": [
        "def calcAngle(x1,y1,x2,y2):\n",
        "  angles = []\n",
        "  for i in range(len(x1)):\n",
        "    angles.append(math.atan2(y2[i] - y1[i], x2[i] - x1[i]) * 180/math.pi)\n",
        "  return angles\n",
        "\n",
        "class FeatureEngineeringTransformer():\n",
        "  def __init__(self):\n",
        "    self.angles_joints = {\n",
        "        'left_torso': ('left_hip','left_shoulder'),\n",
        "        'right_torso': ('right_hip','right_shoulder'),\n",
        "        'left_ulna': ('left_wrist','left_elbow'),\n",
        "        'right_ulna': ('right_wrist','right_elbow'),\n",
        "        'left_los': ('left_eye','nose'),#line of sight\n",
        "        'right_los': ('right_eye','nose')\n",
        "    }\n",
        "\n",
        "  def fit(self,x, y=None):\n",
        "    return self\n",
        "\n",
        "  def transform(self,x):\n",
        "    for angle in self.angles_joints:\n",
        "      joint1, joint2 = self.angles_joints[angle]\n",
        "      x[f'back_{angle}_angle'] = calcAngle(\n",
        "          x1 = x[f'back_{joint1}_x'].values,\n",
        "          y1 = x[f'back_{joint1}_y'].values,\n",
        "          x2 = x[f'back_{joint2}_x'].values,\n",
        "          y2 = x[f'back_{joint2}_y'].values\n",
        "      )\n",
        "      x[f'side_{angle}_angle'] = calcAngle(\n",
        "          x1 = x[f'side_{joint1}_x'].values,\n",
        "          y1 = x[f'side_{joint1}_y'].values,\n",
        "          x2 = x[f'side_{joint2}_x'].values,\n",
        "          y2 = x[f'side_{joint2}_y'].values\n",
        "      )\n",
        "    return x\n",
        "\n",
        "class FeatureSelectionTransformer():\n",
        "  def __init__(self, mode):\n",
        "    self.mode = mode\n",
        "  \n",
        "  def fit(self,x, y=None):\n",
        "    return self\n",
        "  \n",
        "  def transform(self, x, y=None):\n",
        "    if self.mode == \"back\":\n",
        "      cols_to_drop = [c for c in x.columns if \"side_\" in c]\n",
        "    elif self.mode == \"side\":\n",
        "      cols_to_drop = [c for c in x.columns if \"back_\" in c]\n",
        "    elif self.mode == \"combined\":\n",
        "      cols_to_drop = []\n",
        "    \n",
        "    x = x[[c for c in x.columns if c not in cols_to_drop]]\n",
        "    return x\n"
      ],
      "metadata": {
        "id": "GONALpDtOz8a"
      },
      "execution_count": null,
      "outputs": []
    },
    {
      "cell_type": "code",
      "source": [
        "with open('gdrive/My Drive/Colab Notebooks/pipelines/back_engFalse_NN.pkl', 'rb') as file:\n",
        "        model_side = pickle.load(file)\n"
      ],
      "metadata": {
        "id": "-PftsSOoO6uM"
      },
      "execution_count": null,
      "outputs": []
    },
    {
      "cell_type": "code",
      "source": [
        "y_pred = model_side.predict(X.copy())\n",
        "\n",
        "accuracy_score(y, y_pred)\n"
      ],
      "metadata": {
        "colab": {
          "base_uri": "https://localhost:8080/"
        },
        "id": "ahjCaLNXQAJn",
        "outputId": "ad307a4a-ba93-4920-ced6-afea47fef882"
      },
      "execution_count": null,
      "outputs": [
        {
          "output_type": "execute_result",
          "data": {
            "text/plain": [
              "0.9608482871125612"
            ]
          },
          "metadata": {},
          "execution_count": 41
        }
      ]
    },
    {
      "cell_type": "code",
      "source": [
        "with open('gdrive/My Drive/Colab Notebooks/Pipelines_Latest/back_engTrue_LR.pkl', 'rb') as file:\n",
        "        model_side = pickle.load(file)"
      ],
      "metadata": {
        "id": "PS_-o670GUac"
      },
      "execution_count": null,
      "outputs": []
    },
    {
      "cell_type": "code",
      "source": [
        "y_pred = model_side.predict(X.copy())\n",
        "accuracy_score(y_pred, y)"
      ],
      "metadata": {
        "colab": {
          "base_uri": "https://localhost:8080/"
        },
        "id": "yA6iSTn3IUw-",
        "outputId": "50f4fb05-ef04-4138-c322-e5dbd42671a4"
      },
      "execution_count": null,
      "outputs": [
        {
          "output_type": "execute_result",
          "data": {
            "text/plain": [
              "0.9306688417618271"
            ]
          },
          "metadata": {},
          "execution_count": 81
        }
      ]
    },
    {
      "cell_type": "code",
      "source": [
        "y_predtest = model_side.predict(X.copy()) \n",
        "cf_matrix = confusion_matrix(y, y_predtest)\n",
        "print(cf_matrix)\n",
        "\n",
        "ax = sns.heatmap(cf_matrix/np.sum(cf_matrix), annot=True, fmt='.2%', cmap='Oranges')\n",
        "#ax.set_title('combined_engFalse_LR\\n\\n obstacle dataset');\n",
        "#sns.set(rc = {'figure.figsize':(7,5)})\n",
        "ax.set_xlabel('\\nPredicted Values')\n",
        "ax.set_ylabel('Actual Values ');\n",
        "ax.xaxis.set_ticklabels(['Negative','Positive'])\n",
        "ax.yaxis.set_ticklabels(['Negative','Positive'])\n",
        "plt.show()\n",
        "\n"
      ],
      "metadata": {
        "colab": {
          "base_uri": "https://localhost:8080/",
          "height": 388
        },
        "id": "vq1ozlsp0eib",
        "outputId": "e2b53559-fff7-4f7b-d827-d32b352e9220"
      },
      "execution_count": null,
      "outputs": [
        {
          "output_type": "stream",
          "name": "stdout",
          "text": [
            "[[657   0]\n",
            " [569   0]]\n"
          ]
        },
        {
          "output_type": "display_data",
          "data": {
            "text/plain": [
              "<Figure size 504x360 with 2 Axes>"
            ],
            "image/png": "[encoded data removed]"
          },
          "metadata": {}
        }
      ]
    },
    {
      "cell_type": "code",
      "source": [
        "y_predtest = model_side1.predict(X.copy()) \n",
        "#y_pred = model_side.predict(X)\n",
        "accuracy = accuracy_score(y, y_predtest)\n",
        "\n",
        "y_pred_proba = model_side1.predict_proba(X.copy)[::,1]\n",
        "\n",
        "fpr, tpr, _ = metrics.roc_curve(y, y_pred_proba)\n",
        "auc = metrics.roc_auc_score(y, y_pred_proba)\n",
        "\n",
        "plt.plot(fpr,tpr,label=\"RF AUC=\"+str(auc))\n",
        "plt.ylabel('True Positive Rate')\n",
        "plt.xlabel('False Positive Rate')\n",
        "plt.legend(loc=4)\n",
        "plt.show()"
      ],
      "metadata": {
        "colab": {
          "base_uri": "https://localhost:8080/",
          "height": 363
        },
        "id": "zI8yZJbPWE-f",
        "outputId": "647fc3aa-975e-45c7-9dc8-b9072c98f0c5"
      },
      "execution_count": null,
      "outputs": [
        {
          "output_type": "error",
          "ename": "AttributeError",
          "evalue": "ignored",
          "traceback": [
            "\u001b[0;31m---------------------------------------------------------------------------\u001b[0m",
            "\u001b[0;31mAttributeError\u001b[0m                            Traceback (most recent call last)",
            "\u001b[0;32m<ipython-input-49-0804226c4d57>\u001b[0m in \u001b[0;36m<module>\u001b[0;34m()\u001b[0m\n\u001b[1;32m      3\u001b[0m \u001b[0maccuracy\u001b[0m \u001b[0;34m=\u001b[0m \u001b[0maccuracy_score\u001b[0m\u001b[0;34m(\u001b[0m\u001b[0my\u001b[0m\u001b[0;34m,\u001b[0m \u001b[0my_predtest\u001b[0m\u001b[0;34m)\u001b[0m\u001b[0;34m\u001b[0m\u001b[0;34m\u001b[0m\u001b[0m\n\u001b[1;32m      4\u001b[0m \u001b[0;34m\u001b[0m\u001b[0m\n\u001b[0;32m----> 5\u001b[0;31m \u001b[0my_pred_proba\u001b[0m \u001b[0;34m=\u001b[0m \u001b[0mmodel_side1\u001b[0m\u001b[0;34m.\u001b[0m\u001b[0mpredict_proba\u001b[0m\u001b[0;34m(\u001b[0m\u001b[0mX\u001b[0m\u001b[0;34m.\u001b[0m\u001b[0mcopy\u001b[0m\u001b[0;34m)\u001b[0m\u001b[0;34m[\u001b[0m\u001b[0;34m:\u001b[0m\u001b[0;34m:\u001b[0m\u001b[0;34m,\u001b[0m\u001b[0;36m1\u001b[0m\u001b[0;34m]\u001b[0m\u001b[0;34m\u001b[0m\u001b[0;34m\u001b[0m\u001b[0m\n\u001b[0m\u001b[1;32m      6\u001b[0m \u001b[0;34m\u001b[0m\u001b[0m\n\u001b[1;32m      7\u001b[0m \u001b[0mfpr\u001b[0m\u001b[0;34m,\u001b[0m \u001b[0mtpr\u001b[0m\u001b[0;34m,\u001b[0m \u001b[0m_\u001b[0m \u001b[0;34m=\u001b[0m \u001b[0mmetrics\u001b[0m\u001b[0;34m.\u001b[0m\u001b[0mroc_curve\u001b[0m\u001b[0;34m(\u001b[0m\u001b[0my\u001b[0m\u001b[0;34m,\u001b[0m \u001b[0my_pred_proba\u001b[0m\u001b[0;34m)\u001b[0m\u001b[0;34m\u001b[0m\u001b[0;34m\u001b[0m\u001b[0m\n",
            "\u001b[0;32m/usr/local/lib/python3.7/dist-packages/sklearn/utils/metaestimators.py\u001b[0m in \u001b[0;36m<lambda>\u001b[0;34m(*args, **kwargs)\u001b[0m\n\u001b[1;32m    111\u001b[0m \u001b[0;34m\u001b[0m\u001b[0m\n\u001b[1;32m    112\u001b[0m             \u001b[0;31m# lambda, but not partial, allows help() to work with update_wrapper\u001b[0m\u001b[0;34m\u001b[0m\u001b[0;34m\u001b[0m\u001b[0;34m\u001b[0m\u001b[0m\n\u001b[0;32m--> 113\u001b[0;31m             \u001b[0mout\u001b[0m \u001b[0;34m=\u001b[0m \u001b[0;32mlambda\u001b[0m \u001b[0;34m*\u001b[0m\u001b[0margs\u001b[0m\u001b[0;34m,\u001b[0m \u001b[0;34m**\u001b[0m\u001b[0mkwargs\u001b[0m\u001b[0;34m:\u001b[0m \u001b[0mself\u001b[0m\u001b[0;34m.\u001b[0m\u001b[0mfn\u001b[0m\u001b[0;34m(\u001b[0m\u001b[0mobj\u001b[0m\u001b[0;34m,\u001b[0m \u001b[0;34m*\u001b[0m\u001b[0margs\u001b[0m\u001b[0;34m,\u001b[0m \u001b[0;34m**\u001b[0m\u001b[0mkwargs\u001b[0m\u001b[0;34m)\u001b[0m  \u001b[0;31m# noqa\u001b[0m\u001b[0;34m\u001b[0m\u001b[0;34m\u001b[0m\u001b[0m\n\u001b[0m\u001b[1;32m    114\u001b[0m         \u001b[0;32melse\u001b[0m\u001b[0;34m:\u001b[0m\u001b[0;34m\u001b[0m\u001b[0;34m\u001b[0m\u001b[0m\n\u001b[1;32m    115\u001b[0m \u001b[0;34m\u001b[0m\u001b[0m\n",
            "\u001b[0;32m/usr/local/lib/python3.7/dist-packages/sklearn/pipeline.py\u001b[0m in \u001b[0;36mpredict_proba\u001b[0;34m(self, X, **predict_proba_params)\u001b[0m\n\u001b[1;32m    533\u001b[0m         \u001b[0mXt\u001b[0m \u001b[0;34m=\u001b[0m \u001b[0mX\u001b[0m\u001b[0;34m\u001b[0m\u001b[0;34m\u001b[0m\u001b[0m\n\u001b[1;32m    534\u001b[0m         \u001b[0;32mfor\u001b[0m \u001b[0m_\u001b[0m\u001b[0;34m,\u001b[0m \u001b[0mname\u001b[0m\u001b[0;34m,\u001b[0m \u001b[0mtransform\u001b[0m \u001b[0;32min\u001b[0m \u001b[0mself\u001b[0m\u001b[0;34m.\u001b[0m\u001b[0m_iter\u001b[0m\u001b[0;34m(\u001b[0m\u001b[0mwith_final\u001b[0m\u001b[0;34m=\u001b[0m\u001b[0;32mFalse\u001b[0m\u001b[0;34m)\u001b[0m\u001b[0;34m:\u001b[0m\u001b[0;34m\u001b[0m\u001b[0;34m\u001b[0m\u001b[0m\n\u001b[0;32m--> 535\u001b[0;31m             \u001b[0mXt\u001b[0m \u001b[0;34m=\u001b[0m \u001b[0mtransform\u001b[0m\u001b[0;34m.\u001b[0m\u001b[0mtransform\u001b[0m\u001b[0;34m(\u001b[0m\u001b[0mXt\u001b[0m\u001b[0;34m)\u001b[0m\u001b[0;34m\u001b[0m\u001b[0;34m\u001b[0m\u001b[0m\n\u001b[0m\u001b[1;32m    536\u001b[0m         \u001b[0;32mreturn\u001b[0m \u001b[0mself\u001b[0m\u001b[0;34m.\u001b[0m\u001b[0msteps\u001b[0m\u001b[0;34m[\u001b[0m\u001b[0;34m-\u001b[0m\u001b[0;36m1\u001b[0m\u001b[0;34m]\u001b[0m\u001b[0;34m[\u001b[0m\u001b[0;36m1\u001b[0m\u001b[0;34m]\u001b[0m\u001b[0;34m.\u001b[0m\u001b[0mpredict_proba\u001b[0m\u001b[0;34m(\u001b[0m\u001b[0mXt\u001b[0m\u001b[0;34m,\u001b[0m \u001b[0;34m**\u001b[0m\u001b[0mpredict_proba_params\u001b[0m\u001b[0;34m)\u001b[0m\u001b[0;34m\u001b[0m\u001b[0;34m\u001b[0m\u001b[0m\n\u001b[1;32m    537\u001b[0m \u001b[0;34m\u001b[0m\u001b[0m\n",
            "\u001b[0;32m<ipython-input-19-fae929d9a0dc>\u001b[0m in \u001b[0;36mtransform\u001b[0;34m(self, x, y)\u001b[0m\n\u001b[1;32m     51\u001b[0m       \u001b[0mcols_to_drop\u001b[0m \u001b[0;34m=\u001b[0m \u001b[0;34m[\u001b[0m\u001b[0;34m]\u001b[0m\u001b[0;34m\u001b[0m\u001b[0;34m\u001b[0m\u001b[0m\n\u001b[1;32m     52\u001b[0m \u001b[0;34m\u001b[0m\u001b[0m\n\u001b[0;32m---> 53\u001b[0;31m     \u001b[0mx\u001b[0m \u001b[0;34m=\u001b[0m \u001b[0mx\u001b[0m\u001b[0;34m[\u001b[0m\u001b[0;34m[\u001b[0m\u001b[0mc\u001b[0m \u001b[0;32mfor\u001b[0m \u001b[0mc\u001b[0m \u001b[0;32min\u001b[0m \u001b[0mx\u001b[0m\u001b[0;34m.\u001b[0m\u001b[0mcolumns\u001b[0m \u001b[0;32mif\u001b[0m \u001b[0mc\u001b[0m \u001b[0;32mnot\u001b[0m \u001b[0;32min\u001b[0m \u001b[0mcols_to_drop\u001b[0m\u001b[0;34m]\u001b[0m\u001b[0;34m]\u001b[0m\u001b[0;34m\u001b[0m\u001b[0;34m\u001b[0m\u001b[0m\n\u001b[0m\u001b[1;32m     54\u001b[0m     \u001b[0;32mreturn\u001b[0m \u001b[0mx\u001b[0m\u001b[0;34m\u001b[0m\u001b[0;34m\u001b[0m\u001b[0m\n",
            "\u001b[0;31mAttributeError\u001b[0m: 'function' object has no attribute 'columns'"
          ]
        }
      ]
    },
    {
      "cell_type": "code",
      "source": [
        "with open('gdrive/My Drive/Colab Notebooks/Pipelines_Latest/back_engTrue_LR.pkl', 'rb') as file:\n",
        "        model_side = pickle.load(file)"
      ],
      "metadata": {
        "id": "6VZMkyCEIXpy"
      },
      "execution_count": null,
      "outputs": []
    },
    {
      "cell_type": "code",
      "source": [
        "y_pred = model_side.predict(X.copy())\n",
        "accuracy_score(y_pred, y)"
      ],
      "metadata": {
        "colab": {
          "base_uri": "https://localhost:8080/"
        },
        "id": "97r10ARyIZP1",
        "outputId": "261dacb6-eec2-4b2c-ccb8-cd15e356e214"
      },
      "execution_count": null,
      "outputs": [
        {
          "output_type": "execute_result",
          "data": {
            "text/plain": [
              "0.5383360522022839"
            ]
          },
          "metadata": {},
          "execution_count": 14
        }
      ]
    },
    {
      "cell_type": "code",
      "source": [
        "with open('gdrive/My Drive/Colab Notebooks/Pipelines_Latest/back_engTrue_SVM.pkl', 'rb') as file:\n",
        "        model_side = pickle.load(file)"
      ],
      "metadata": {
        "id": "v99LZv76Ir3I"
      },
      "execution_count": null,
      "outputs": []
    },
    {
      "cell_type": "code",
      "source": [
        "y_pred = model_side.predict(X.copy())\n",
        "accuracy_score(y_pred, y)"
      ],
      "metadata": {
        "colab": {
          "base_uri": "https://localhost:8080/"
        },
        "id": "5UtukONKIsoG",
        "outputId": "cebd6999-8a65-4e47-f49a-f83262d6e30a"
      },
      "execution_count": null,
      "outputs": [
        {
          "output_type": "execute_result",
          "data": {
            "text/plain": [
              "0.2528548123980424"
            ]
          },
          "metadata": {},
          "execution_count": 34
        }
      ]
    }
  ]
}